{
 "cells": [
  {
   "cell_type": "markdown",
   "metadata": {},
   "source": [
    "### Importing Libraries"
   ]
  },
  {
   "cell_type": "code",
   "execution_count": 1,
   "metadata": {},
   "outputs": [],
   "source": [
    "import os\n",
    "import numpy as np \n",
    "import pandas as pd\n",
    "import tensorflow as tf\n",
    "import matplotlib.pyplot as plt\n",
    "import pathlib\n",
    "import librosa.display\n",
    "from tqdm import tqdm\n",
    "from sklearn.metrics import confusion_matrix\n",
    "from sklearn.model_selection import train_test_split\n",
    "import librosa\n",
    "import  warnings\n",
    "import sounddevice as sd\n",
    "from scipy.io.wavfile import write\n",
    "from sklearn.metrics import plot_confusion_matrix\n",
    "import seaborn as sns\n",
    "from sklearn.metrics import classification_report\n",
    "warnings.filterwarnings(\"ignore\")"
   ]
  },
  {
   "cell_type": "code",
   "execution_count": 3,
   "metadata": {},
   "outputs": [],
   "source": [
    "from tensorflow.keras.layers import Dense, Conv1D\n",
    "from tensorflow.keras.layers import LeakyReLU, BatchNormalization, Flatten, MaxPooling1D, Input\n",
    "from sincnet_tensorflow import SincConv1D, LayerNorm\n",
    "from spela.spectrogram import Spectrogram \n",
    "from spela.melspectrogram import Melspectrogram\n",
    "from tensorflow.keras.optimizers import Adam\n",
    "from tensorflow.keras.utils import plot_model"
   ]
  },
  {
   "cell_type": "code",
   "execution_count": 5,
   "metadata": {},
   "outputs": [],
   "source": [
    "data_dir = 'Voice_Training_Samples/'"
   ]
  },
  {
   "cell_type": "code",
   "execution_count": 6,
   "metadata": {},
   "outputs": [
    {
     "data": {
      "text/plain": [
       "['Anveshak-003', 'Darshan-005', 'Dixit-001', 'Sourav-002', 'Vedant-004']"
      ]
     },
     "execution_count": 6,
     "metadata": {},
     "output_type": "execute_result"
    }
   ],
   "source": [
    "os.listdir(data_dir)"
   ]
  },
  {
   "cell_type": "code",
   "execution_count": 7,
   "metadata": {},
   "outputs": [],
   "source": [
    "spkr_id = {\n",
    "    1:'Dixit',\n",
    "    2:'Sourav',\n",
    "    3:'Anveshak',\n",
    "    4:'Vedant',\n",
    "    5:'Darshan'\n",
    "}"
   ]
  },
  {
   "cell_type": "markdown",
   "metadata": {},
   "source": [
    "### Preparing Training Data"
   ]
  },
  {
   "cell_type": "code",
   "execution_count": 8,
   "metadata": {},
   "outputs": [],
   "source": [
    "def get_wav_paths(speaker):\n",
    "    speaker_path = data_dir + speaker\n",
    "    all_paths = [item for item in os.listdir(speaker_path)]\n",
    "    return all_paths"
   ]
  },
  {
   "cell_type": "code",
   "execution_count": 9,
   "metadata": {},
   "outputs": [],
   "source": [
    "Dixit_paths = get_wav_paths(\"Dixit-001\")\n",
    "Sourav_paths = get_wav_paths(\"Sourav-002\")\n",
    "Anveshak_paths = get_wav_paths(\"Anveshak-003\")\n",
    "Vedant_paths = get_wav_paths(\"Vedant-004\")\n",
    "Darshan_paths = get_wav_paths(\"Darshan-005\")"
   ]
  },
  {
   "cell_type": "code",
   "execution_count": 10,
   "metadata": {},
   "outputs": [],
   "source": [
    "def generate_training_data(speaker_paths, speaker, label):\n",
    "    wavs, labels = [], []\n",
    "    for i in tqdm(speaker_paths):\n",
    "        if str(i).endswith('.wav'):\n",
    "            wav = load_wav(i, speaker)\n",
    "            wavs.append(wav)\n",
    "            labels.append(label)\n",
    "    return wavs,labels"
   ]
  },
  {
   "cell_type": "code",
   "execution_count": 11,
   "metadata": {},
   "outputs": [],
   "source": [
    "def load_wav(wav_path,speaker):\n",
    "    wav_path = data_dir + speaker + '/' + wav_path\n",
    "    wav_data,_ = librosa.load(wav_path,sr=16000)\n",
    "    wav_data = wav_data[:112000]\n",
    "    wav_data = wav_data.tolist()\n",
    "    return wav_data"
   ]
  },
  {
   "cell_type": "code",
   "execution_count": 12,
   "metadata": {},
   "outputs": [
    {
     "name": "stderr",
     "output_type": "stream",
     "text": [
      "100%|██████████| 10/10 [00:02<00:00,  3.56it/s]\n",
      "100%|██████████| 10/10 [00:02<00:00,  4.10it/s]\n",
      "100%|██████████| 10/10 [00:00<00:00, 19.70it/s]\n",
      "100%|██████████| 10/10 [00:02<00:00,  3.92it/s]\n",
      "100%|██████████| 10/10 [00:02<00:00,  3.37it/s]\n"
     ]
    }
   ],
   "source": [
    "Dixit_wavs, Dixit_labels = generate_training_data(Dixit_paths,'Dixit-001',1)\n",
    "Sourav_wavs, Sourav_labels = generate_training_data(Sourav_paths, \"Sourav-002\", 2) \n",
    "Anveshak_wavs, Anveshak_labels = generate_training_data(Anveshak_paths, \"Anveshak-003\", 3) \n",
    "Vedant_wavs,Vedant_labels = generate_training_data(Vedant_paths,\"Vedant-004\",4)\n",
    "Darshan_wavs,Darshan_labels = generate_training_data(Darshan_paths,\"Darshan-005\",5)"
   ]
  },
  {
   "cell_type": "code",
   "execution_count": 13,
   "metadata": {},
   "outputs": [],
   "source": [
    "def cvt_lst_arr(wav):\n",
    "    wav_arr = np.array(wav)\n",
    "    return wav_arr"
   ]
  },
  {
   "cell_type": "code",
   "execution_count": 14,
   "metadata": {},
   "outputs": [],
   "source": [
    "Dixit_wavs_arr = cvt_lst_arr(Dixit_wavs)\n",
    "Sourav_wavs_arr = cvt_lst_arr(Sourav_wavs)\n",
    "Anveshak_wavs_arr = cvt_lst_arr(Anveshak_wavs)\n",
    "Vedant_wavs_arr = cvt_lst_arr(Vedant_wavs)\n",
    "Darshan_wavs_arr = cvt_lst_arr(Darshan_wavs)"
   ]
  },
  {
   "cell_type": "code",
   "execution_count": 15,
   "metadata": {},
   "outputs": [],
   "source": [
    "train_data = np.concatenate((Dixit_wavs_arr,Sourav_wavs_arr,Anveshak_wavs_arr,Vedant_wavs_arr,Darshan_wavs_arr))\n",
    "train_labels = Dixit_labels + Sourav_labels + Anveshak_labels + Vedant_labels + Darshan_labels"
   ]
  },
  {
   "cell_type": "code",
   "execution_count": null,
   "metadata": {},
   "outputs": [],
   "source": []
  },
  {
   "cell_type": "code",
   "execution_count": null,
   "metadata": {},
   "outputs": [],
   "source": []
  },
  {
   "cell_type": "markdown",
   "metadata": {},
   "source": [
    "### Preparing Testing Data"
   ]
  },
  {
   "cell_type": "code",
   "execution_count": 16,
   "metadata": {},
   "outputs": [],
   "source": [
    "test_dir = 'Voice_Testing_Samples/'"
   ]
  },
  {
   "cell_type": "code",
   "execution_count": 17,
   "metadata": {},
   "outputs": [],
   "source": [
    "def get_testwav_paths(speaker):\n",
    "    speaker_path = test_dir + speaker\n",
    "    all_paths = [item for item in os.listdir(speaker_path)]\n",
    "    return all_paths"
   ]
  },
  {
   "cell_type": "code",
   "execution_count": 18,
   "metadata": {},
   "outputs": [],
   "source": [
    "Dixit_test_paths = get_testwav_paths(\"Dixit-001\")\n",
    "Sourav_test_paths = get_testwav_paths(\"Sourav-002\")\n",
    "Anveshak_test_paths = get_testwav_paths(\"Anveshak-003\")\n",
    "Vedant_test_paths = get_testwav_paths(\"Vedant-004\")\n",
    "Darshan_test_paths = get_testwav_paths(\"Darshan-005\")"
   ]
  },
  {
   "cell_type": "code",
   "execution_count": 19,
   "metadata": {},
   "outputs": [],
   "source": [
    "def load_wav(wav_path,speaker):\n",
    "    wav_path = test_dir + speaker + '/' + wav_path\n",
    "    wav_data,_ = librosa.load(wav_path,sr=16000)\n",
    "    wav_data = wav_data[:112000]\n",
    "    wav_data = wav_data.tolist()\n",
    "    return wav_data"
   ]
  },
  {
   "cell_type": "code",
   "execution_count": 20,
   "metadata": {},
   "outputs": [
    {
     "name": "stderr",
     "output_type": "stream",
     "text": [
      "100%|██████████| 7/7 [00:01<00:00,  4.07it/s]\n",
      "100%|██████████| 4/4 [00:00<00:00,  4.11it/s]\n",
      "100%|██████████| 5/5 [00:00<00:00, 358.08it/s]\n",
      "100%|██████████| 5/5 [00:01<00:00,  3.99it/s]\n",
      "100%|██████████| 5/5 [00:01<00:00,  3.71it/s]\n"
     ]
    }
   ],
   "source": [
    "Dixit_test_wavs, Dixit_test_labels = generate_training_data(Dixit_test_paths,'Dixit-001',1)\n",
    "Sourav_test_wavs, Sourav_test_labels = generate_training_data(Sourav_test_paths, \"Sourav-002\", 2) \n",
    "Anveshak_test_wavs, Anveshak_test_labels = generate_training_data(Anveshak_test_paths, \"Anveshak-003\", 3) \n",
    "Vedant_test_wavs,Vedant_test_labels = generate_training_data(Vedant_test_paths,\"Vedant-004\",4)\n",
    "Darshan_test_wavs,Darshan_test_labels = generate_training_data(Darshan_test_paths,\"Darshan-005\",5)"
   ]
  },
  {
   "cell_type": "code",
   "execution_count": null,
   "metadata": {},
   "outputs": [],
   "source": []
  },
  {
   "cell_type": "code",
   "execution_count": 21,
   "metadata": {},
   "outputs": [],
   "source": [
    "Dixit_test_arr = cvt_lst_arr(Dixit_test_wavs)\n",
    "Sourav_test_arr = cvt_lst_arr(Sourav_test_wavs)\n",
    "Anveshak_test_arr = cvt_lst_arr(Anveshak_test_wavs)\n",
    "Vedant_test_arr = cvt_lst_arr(Vedant_test_wavs)\n",
    "Darshan_test_arr = cvt_lst_arr(Darshan_test_wavs)"
   ]
  },
  {
   "cell_type": "code",
   "execution_count": 22,
   "metadata": {},
   "outputs": [],
   "source": [
    "test_data = np.concatenate((Dixit_test_arr,Sourav_test_arr,Anveshak_test_arr,Vedant_test_arr,Darshan_test_arr))\n",
    "test_labels = Dixit_test_labels + Sourav_test_labels + Anveshak_test_labels + Vedant_test_labels + Darshan_test_labels"
   ]
  },
  {
   "cell_type": "code",
   "execution_count": 23,
   "metadata": {},
   "outputs": [],
   "source": [
    "test_label_con = Dixit_test_labels + Sourav_test_labels + Anveshak_test_labels + Vedant_test_labels + Darshan_test_labels"
   ]
  },
  {
   "cell_type": "code",
   "execution_count": null,
   "metadata": {},
   "outputs": [],
   "source": []
  },
  {
   "cell_type": "markdown",
   "metadata": {},
   "source": [
    "Converting labels to arrays"
   ]
  },
  {
   "cell_type": "code",
   "execution_count": 24,
   "metadata": {},
   "outputs": [],
   "source": [
    "train_labels = np.array(train_labels)\n",
    "test_labels =  np.array(test_labels)"
   ]
  },
  {
   "cell_type": "markdown",
   "metadata": {},
   "source": [
    "Converting label data to categorical form suitable for model"
   ]
  },
  {
   "cell_type": "code",
   "execution_count": 25,
   "metadata": {},
   "outputs": [],
   "source": [
    "train_labels = tf.keras.utils.to_categorical(train_labels)\n",
    "test_labels = tf.keras.utils.to_categorical(test_labels)"
   ]
  },
  {
   "cell_type": "markdown",
   "metadata": {},
   "source": [
    "### Model Building"
   ]
  },
  {
   "cell_type": "code",
   "execution_count": 26,
   "metadata": {},
   "outputs": [
    {
     "name": "stdout",
     "output_type": "stream",
     "text": [
      "Model: \"model\"\n",
      "_________________________________________________________________\n",
      " Layer (type)                Output Shape              Param #   \n",
      "=================================================================\n",
      " input_1 (InputLayer)        [(None, 112000, 1)]       0         \n",
      "                                                                 \n",
      " sinc_conv1d (SincConv1D)    (None, 7000, 64)          128       \n",
      "                                                                 \n",
      " layer_norm (LayerNorm)      (None, 7000, 64)          128       \n",
      "                                                                 \n",
      " leaky_re_lu (LeakyReLU)     (None, 7000, 64)          0         \n",
      "                                                                 \n",
      " max_pooling1d (MaxPooling1D  (None, 3500, 64)         0         \n",
      " )                                                               \n",
      "                                                                 \n",
      " conv1d (Conv1D)             (None, 3498, 64)          12352     \n",
      "                                                                 \n",
      " batch_normalization (BatchN  (None, 3498, 64)         256       \n",
      " ormalization)                                                   \n",
      "                                                                 \n",
      " leaky_re_lu_1 (LeakyReLU)   (None, 3498, 64)          0         \n",
      "                                                                 \n",
      " max_pooling1d_1 (MaxPooling  (None, 1749, 64)         0         \n",
      " 1D)                                                             \n",
      "                                                                 \n",
      " conv1d_1 (Conv1D)           (None, 1747, 64)          12352     \n",
      "                                                                 \n",
      " batch_normalization_1 (Batc  (None, 1747, 64)         256       \n",
      " hNormalization)                                                 \n",
      "                                                                 \n",
      " leaky_re_lu_2 (LeakyReLU)   (None, 1747, 64)          0         \n",
      "                                                                 \n",
      " max_pooling1d_2 (MaxPooling  (None, 873, 64)          0         \n",
      " 1D)                                                             \n",
      "                                                                 \n",
      " conv1d_2 (Conv1D)           (None, 871, 128)          24704     \n",
      "                                                                 \n",
      " batch_normalization_2 (Batc  (None, 871, 128)         512       \n",
      " hNormalization)                                                 \n",
      "                                                                 \n",
      " leaky_re_lu_3 (LeakyReLU)   (None, 871, 128)          0         \n",
      "                                                                 \n",
      " max_pooling1d_3 (MaxPooling  (None, 435, 128)         0         \n",
      " 1D)                                                             \n",
      "                                                                 \n",
      " conv1d_3 (Conv1D)           (None, 433, 128)          49280     \n",
      "                                                                 \n",
      " batch_normalization_3 (Batc  (None, 433, 128)         512       \n",
      " hNormalization)                                                 \n",
      "                                                                 \n",
      " leaky_re_lu_4 (LeakyReLU)   (None, 433, 128)          0         \n",
      "                                                                 \n",
      " max_pooling1d_4 (MaxPooling  (None, 216, 128)         0         \n",
      " 1D)                                                             \n",
      "                                                                 \n",
      " flatten (Flatten)           (None, 27648)             0         \n",
      "                                                                 \n",
      " dense (Dense)               (None, 256)               7078144   \n",
      "                                                                 \n",
      " batch_normalization_4 (Batc  (None, 256)              1024      \n",
      " hNormalization)                                                 \n",
      "                                                                 \n",
      " leaky_re_lu_5 (LeakyReLU)   (None, 256)               0         \n",
      "                                                                 \n",
      " dense_1 (Dense)             (None, 256)               65792     \n",
      "                                                                 \n",
      " batch_normalization_5 (Batc  (None, 256)              1024      \n",
      " hNormalization)                                                 \n",
      "                                                                 \n",
      " leaky_re_lu_6 (LeakyReLU)   (None, 256)               0         \n",
      "                                                                 \n",
      " dense_2 (Dense)             (None, 6)                 1542      \n",
      "                                                                 \n",
      "=================================================================\n",
      "Total params: 7,248,006\n",
      "Trainable params: 7,246,214\n",
      "Non-trainable params: 1,792\n",
      "_________________________________________________________________\n"
     ]
    }
   ],
   "source": [
    "sinc_layer = SincConv1D(N_filt=64,\n",
    "                        Filt_dim=129,\n",
    "                        fs=16000,\n",
    "                        stride=16,\n",
    "                        padding=\"SAME\")\n",
    "\n",
    "\n",
    "inputs = Input((train_data.shape[1], 1)) \n",
    "\n",
    "x = sinc_layer(inputs)\n",
    "x = LayerNorm()(x)\n",
    "\n",
    "x = LeakyReLU(alpha=0.2)(x)\n",
    "x = MaxPooling1D(pool_size=2)(x)\n",
    "\n",
    "\n",
    "x = Conv1D(64, 3, strides=1, padding='valid')(x)\n",
    "x = BatchNormalization(momentum=0.05)(x)\n",
    "x = LeakyReLU(alpha=0.2)(x)\n",
    "x = MaxPooling1D(pool_size=2)(x)\n",
    "\n",
    "x = Conv1D(64, 3, strides=1, padding='valid')(x)\n",
    "x = BatchNormalization(momentum=0.05)(x)\n",
    "x = LeakyReLU(alpha=0.2)(x)\n",
    "x = MaxPooling1D(pool_size=2)(x)\n",
    "\n",
    "x = Conv1D(128, 3, strides=1, padding='valid')(x)\n",
    "x = BatchNormalization(momentum=0.05)(x)\n",
    "x = LeakyReLU(alpha=0.2)(x)\n",
    "x = MaxPooling1D(pool_size=2)(x)\n",
    "\n",
    "x = Conv1D(128, 3, strides=1, padding='valid')(x)\n",
    "x = BatchNormalization(momentum=0.05)(x)\n",
    "x = LeakyReLU(alpha=0.2)(x)\n",
    "x = MaxPooling1D(pool_size=2)(x)\n",
    "\n",
    "x = Flatten()(x)\n",
    "\n",
    "x = Dense(256)(x)\n",
    "x = BatchNormalization(momentum=0.05, epsilon=1e-5)(x)\n",
    "x = LeakyReLU(alpha=0.2)(x)\n",
    "\n",
    "x = Dense(256)(x)\n",
    "x = BatchNormalization(momentum=0.05, epsilon=1e-5)(x)\n",
    "x = LeakyReLU(alpha=0.2)(x)\n",
    "\n",
    "prediction = Dense(6, activation='softmax')(x)\n",
    "model = tf.keras.models.Model(inputs=inputs, outputs=prediction)\n",
    "\n",
    "model.summary()"
   ]
  },
  {
   "cell_type": "markdown",
   "metadata": {},
   "source": [
    "### Plotting Keras Model layers"
   ]
  },
  {
   "cell_type": "code",
   "execution_count": 27,
   "metadata": {},
   "outputs": [
    {
     "ename": "TypeError",
     "evalue": "Exception encountered when calling layer \"sinc_conv1d_2\" (type SincConv1D).\n\nf(x, training, training, training, training, *, training, training) missing 1 required argument: training.\n\nCall arguments received:\n  • args=('tf.Tensor(shape=(None, 112000, 1), dtype=float32)',)\n  • kwargs={'training': 'False'}",
     "output_type": "error",
     "traceback": [
      "\u001b[1;31m---------------------------------------------------------------------------\u001b[0m",
      "\u001b[1;31mTypeError\u001b[0m                                 Traceback (most recent call last)",
      "\u001b[1;32mc:\\Users\\anves\\Documents\\Sincnet Final\\Sincnet Final.ipynb Cell 36'\u001b[0m in \u001b[0;36m<cell line: 1>\u001b[1;34m()\u001b[0m\n\u001b[1;32m----> <a href='vscode-notebook-cell:/c%3A/Users/anves/Documents/Sincnet%20Final/Sincnet%20Final.ipynb#ch0000035?line=0'>1</a>\u001b[0m model \u001b[39m=\u001b[39m tf\u001b[39m.\u001b[39;49mkeras\u001b[39m.\u001b[39;49mmodels\u001b[39m.\u001b[39;49mload_model(\u001b[39m\"\u001b[39;49m\u001b[39mfinal-model\u001b[39;49m\u001b[39m\"\u001b[39;49m)\n\u001b[0;32m      <a href='vscode-notebook-cell:/c%3A/Users/anves/Documents/Sincnet%20Final/Sincnet%20Final.ipynb#ch0000035?line=1'>2</a>\u001b[0m plot_model(model, to_file\u001b[39m=\u001b[39m\u001b[39m'\u001b[39m\u001b[39mmodel.png\u001b[39m\u001b[39m'\u001b[39m)\n",
      "File \u001b[1;32mc:\\Users\\anves\\AppData\\Local\\Programs\\Python\\Python38\\lib\\site-packages\\keras\\utils\\traceback_utils.py:67\u001b[0m, in \u001b[0;36mfilter_traceback.<locals>.error_handler\u001b[1;34m(*args, **kwargs)\u001b[0m\n\u001b[0;32m     <a href='file:///c%3A/Users/anves/AppData/Local/Programs/Python/Python38/lib/site-packages/keras/utils/traceback_utils.py?line=64'>65</a>\u001b[0m \u001b[39mexcept\u001b[39;00m \u001b[39mException\u001b[39;00m \u001b[39mas\u001b[39;00m e:  \u001b[39m# pylint: disable=broad-except\u001b[39;00m\n\u001b[0;32m     <a href='file:///c%3A/Users/anves/AppData/Local/Programs/Python/Python38/lib/site-packages/keras/utils/traceback_utils.py?line=65'>66</a>\u001b[0m   filtered_tb \u001b[39m=\u001b[39m _process_traceback_frames(e\u001b[39m.\u001b[39m__traceback__)\n\u001b[1;32m---> <a href='file:///c%3A/Users/anves/AppData/Local/Programs/Python/Python38/lib/site-packages/keras/utils/traceback_utils.py?line=66'>67</a>\u001b[0m   \u001b[39mraise\u001b[39;00m e\u001b[39m.\u001b[39mwith_traceback(filtered_tb) \u001b[39mfrom\u001b[39;00m \u001b[39mNone\u001b[39m\n\u001b[0;32m     <a href='file:///c%3A/Users/anves/AppData/Local/Programs/Python/Python38/lib/site-packages/keras/utils/traceback_utils.py?line=67'>68</a>\u001b[0m \u001b[39mfinally\u001b[39;00m:\n\u001b[0;32m     <a href='file:///c%3A/Users/anves/AppData/Local/Programs/Python/Python38/lib/site-packages/keras/utils/traceback_utils.py?line=68'>69</a>\u001b[0m   \u001b[39mdel\u001b[39;00m filtered_tb\n",
      "File \u001b[1;32mc:\\Users\\anves\\AppData\\Local\\Programs\\Python\\Python38\\lib\\site-packages\\tensorflow\\python\\eager\\function.py:2749\u001b[0m, in \u001b[0;36mFunctionSpec.canonicalize_function_inputs\u001b[1;34m(self, *args, **kwargs)\u001b[0m\n\u001b[0;32m   <a href='file:///c%3A/Users/anves/AppData/Local/Programs/Python/Python38/lib/site-packages/tensorflow/python/eager/function.py?line=2746'>2747</a>\u001b[0m missing_args \u001b[39m=\u001b[39m [\u001b[39mself\u001b[39m\u001b[39m.\u001b[39m_arg_names[i] \u001b[39mfor\u001b[39;00m i \u001b[39min\u001b[39;00m \u001b[39msorted\u001b[39m(missing_arg_indices)]\n\u001b[0;32m   <a href='file:///c%3A/Users/anves/AppData/Local/Programs/Python/Python38/lib/site-packages/tensorflow/python/eager/function.py?line=2747'>2748</a>\u001b[0m \u001b[39mif\u001b[39;00m \u001b[39mlen\u001b[39m(missing_args) \u001b[39m==\u001b[39m \u001b[39m1\u001b[39m:\n\u001b[1;32m-> <a href='file:///c%3A/Users/anves/AppData/Local/Programs/Python/Python38/lib/site-packages/tensorflow/python/eager/function.py?line=2748'>2749</a>\u001b[0m   \u001b[39mraise\u001b[39;00m \u001b[39mTypeError\u001b[39;00m(\u001b[39mf\u001b[39m\u001b[39m\"\u001b[39m\u001b[39m{\u001b[39;00m\u001b[39mself\u001b[39m\u001b[39m.\u001b[39msignature_summary()\u001b[39m}\u001b[39;00m\u001b[39m missing 1 required \u001b[39m\u001b[39m\"\u001b[39m\n\u001b[0;32m   <a href='file:///c%3A/Users/anves/AppData/Local/Programs/Python/Python38/lib/site-packages/tensorflow/python/eager/function.py?line=2749'>2750</a>\u001b[0m                   \u001b[39mf\u001b[39m\u001b[39m\"\u001b[39m\u001b[39margument: \u001b[39m\u001b[39m{\u001b[39;00mmissing_args[\u001b[39m0\u001b[39m]\u001b[39m}\u001b[39;00m\u001b[39m.\u001b[39m\u001b[39m\"\u001b[39m)\n\u001b[0;32m   <a href='file:///c%3A/Users/anves/AppData/Local/Programs/Python/Python38/lib/site-packages/tensorflow/python/eager/function.py?line=2750'>2751</a>\u001b[0m \u001b[39melse\u001b[39;00m:\n\u001b[0;32m   <a href='file:///c%3A/Users/anves/AppData/Local/Programs/Python/Python38/lib/site-packages/tensorflow/python/eager/function.py?line=2751'>2752</a>\u001b[0m   \u001b[39mraise\u001b[39;00m \u001b[39mTypeError\u001b[39;00m(\u001b[39mf\u001b[39m\u001b[39m\"\u001b[39m\u001b[39m{\u001b[39;00m\u001b[39mself\u001b[39m\u001b[39m.\u001b[39msignature_summary()\u001b[39m}\u001b[39;00m\u001b[39m missing required \u001b[39m\u001b[39m\"\u001b[39m\n\u001b[0;32m   <a href='file:///c%3A/Users/anves/AppData/Local/Programs/Python/Python38/lib/site-packages/tensorflow/python/eager/function.py?line=2752'>2753</a>\u001b[0m                   \u001b[39mf\u001b[39m\u001b[39m\"\u001b[39m\u001b[39marguments: \u001b[39m\u001b[39m{\u001b[39;00m\u001b[39m'\u001b[39m\u001b[39m, \u001b[39m\u001b[39m'\u001b[39m\u001b[39m.\u001b[39mjoin(missing_args)\u001b[39m}\u001b[39;00m\u001b[39m.\u001b[39m\u001b[39m\"\u001b[39m)\n",
      "\u001b[1;31mTypeError\u001b[0m: Exception encountered when calling layer \"sinc_conv1d_2\" (type SincConv1D).\n\nf(x, training, training, training, training, *, training, training) missing 1 required argument: training.\n\nCall arguments received:\n  • args=('tf.Tensor(shape=(None, 112000, 1), dtype=float32)',)\n  • kwargs={'training': 'False'}"
     ]
    }
   ],
   "source": [
    "model = tf.keras.models.load_model(\"final-model\")\n",
    "plot_model(model, to_file='model.png')"
   ]
  },
  {
   "cell_type": "code",
   "execution_count": null,
   "metadata": {},
   "outputs": [
    {
     "ename": "TypeError",
     "evalue": "'int' object is not iterable",
     "output_type": "error",
     "traceback": [
      "\u001b[1;31m---------------------------------------------------------------------------\u001b[0m",
      "\u001b[1;31mTypeError\u001b[0m                                 Traceback (most recent call last)",
      "\u001b[1;32mc:\\Users\\anves\\Documents\\Sincnet Final\\Sincnet Final.ipynb Cell 37'\u001b[0m in \u001b[0;36m<cell line: 2>\u001b[1;34m()\u001b[0m\n\u001b[0;32m      <a href='vscode-notebook-cell:/c%3A/Users/anves/Documents/Sincnet%20Final/Sincnet%20Final.ipynb#ch0000036?line=0'>1</a>\u001b[0m \u001b[39mimport\u001b[39;00m \u001b[39mvisualkeras\u001b[39;00m\n\u001b[1;32m----> <a href='vscode-notebook-cell:/c%3A/Users/anves/Documents/Sincnet%20Final/Sincnet%20Final.ipynb#ch0000036?line=1'>2</a>\u001b[0m visualkeras\u001b[39m.\u001b[39;49mlayered_view(model,legend\u001b[39m=\u001b[39;49m\u001b[39mTrue\u001b[39;49;00m)\n\u001b[0;32m      <a href='vscode-notebook-cell:/c%3A/Users/anves/Documents/Sincnet%20Final/Sincnet%20Final.ipynb#ch0000036?line=2'>3</a>\u001b[0m \u001b[39mfrom\u001b[39;00m \u001b[39mPIL\u001b[39;00m \u001b[39mimport\u001b[39;00m ImageFont\n\u001b[0;32m      <a href='vscode-notebook-cell:/c%3A/Users/anves/Documents/Sincnet%20Final/Sincnet%20Final.ipynb#ch0000036?line=3'>4</a>\u001b[0m font \u001b[39m=\u001b[39m ImageFont\u001b[39m.\u001b[39mtruetype(\u001b[39m\"\u001b[39m\u001b[39marial.ttf\u001b[39m\u001b[39m\"\u001b[39m, \u001b[39m20\u001b[39m)\n",
      "File \u001b[1;32mc:\\Users\\anves\\AppData\\Local\\Programs\\Python\\Python38\\lib\\site-packages\\visualkeras\\layered.py:100\u001b[0m, in \u001b[0;36mlayered_view\u001b[1;34m(model, to_file, min_z, min_xy, max_z, max_xy, scale_z, scale_xy, type_ignore, index_ignore, color_map, one_dim_orientation, background_fill, draw_volume, padding, spacing, draw_funnel, shade_step, legend, font, font_color)\u001b[0m\n\u001b[0;32m     <a href='file:///c%3A/Users/anves/AppData/Local/Programs/Python/Python38/lib/site-packages/visualkeras/layered.py?line=97'>98</a>\u001b[0m     x \u001b[39m=\u001b[39m \u001b[39mmin\u001b[39m(\u001b[39mmax\u001b[39m(shape[\u001b[39m1\u001b[39m] \u001b[39m*\u001b[39m scale_xy, x), max_xy)\n\u001b[0;32m     <a href='file:///c%3A/Users/anves/AppData/Local/Programs/Python/Python38/lib/site-packages/visualkeras/layered.py?line=98'>99</a>\u001b[0m     y \u001b[39m=\u001b[39m \u001b[39mmin\u001b[39m(\u001b[39mmax\u001b[39m(shape[\u001b[39m2\u001b[39m] \u001b[39m*\u001b[39m scale_xy, y), max_xy)\n\u001b[1;32m--> <a href='file:///c%3A/Users/anves/AppData/Local/Programs/Python/Python38/lib/site-packages/visualkeras/layered.py?line=99'>100</a>\u001b[0m     z \u001b[39m=\u001b[39m \u001b[39mmin\u001b[39m(\u001b[39mmax\u001b[39;49m(z), max_z)\n\u001b[0;32m    <a href='file:///c%3A/Users/anves/AppData/Local/Programs/Python/Python38/lib/site-packages/visualkeras/layered.py?line=100'>101</a>\u001b[0m \u001b[39melif\u001b[39;00m \u001b[39mlen\u001b[39m(shape) \u001b[39m==\u001b[39m \u001b[39m2\u001b[39m:\n\u001b[0;32m    <a href='file:///c%3A/Users/anves/AppData/Local/Programs/Python/Python38/lib/site-packages/visualkeras/layered.py?line=101'>102</a>\u001b[0m     \u001b[39mif\u001b[39;00m one_dim_orientation \u001b[39m==\u001b[39m \u001b[39m'\u001b[39m\u001b[39mx\u001b[39m\u001b[39m'\u001b[39m:\n",
      "\u001b[1;31mTypeError\u001b[0m: 'int' object is not iterable"
     ]
    }
   ],
   "source": [
    "import visualkeras\n",
    "visualkeras.layered_view(model,legend=True)\n",
    "from PIL import ImageFont\n",
    "font = ImageFont.truetype(\"arial.ttf\", 20)\n",
    "figure = plt.figure(figsize=(9,5))\n",
    "visualkeras.layered_view(model, legend=True, font=font)"
   ]
  },
  {
   "cell_type": "code",
   "execution_count": 28,
   "metadata": {},
   "outputs": [],
   "source": [
    "model.compile(optimizer=Adam(learning_rate=0.0001,\n",
    "                                       beta_1=0.9,\n",
    "                                       beta_2=0.999,\n",
    "                                       epsilon=1e-07,\n",
    "                                       amsgrad=False,\n",
    "                                       name='Adam'\n",
    "                                       ),\n",
    "              loss='categorical_crossentropy',\n",
    "              metrics=['accuracy'])"
   ]
  },
  {
   "cell_type": "markdown",
   "metadata": {},
   "source": [
    "### Model Training"
   ]
  },
  {
   "cell_type": "code",
   "execution_count": 29,
   "metadata": {},
   "outputs": [
    {
     "name": "stdout",
     "output_type": "stream",
     "text": [
      "Epoch 1/15\n",
      "2/2 [==============================] - 5s 598ms/step - loss: 2.0334 - accuracy: 0.2400 - val_loss: 1.0733 - val_accuracy: 0.7308\n",
      "Epoch 2/15\n",
      "2/2 [==============================] - 0s 80ms/step - loss: 0.1047 - accuracy: 1.0000 - val_loss: 0.9696 - val_accuracy: 0.6154\n",
      "Epoch 3/15\n",
      "2/2 [==============================] - 0s 78ms/step - loss: 0.0299 - accuracy: 1.0000 - val_loss: 0.7291 - val_accuracy: 0.8077\n",
      "Epoch 4/15\n",
      "2/2 [==============================] - 0s 83ms/step - loss: 0.0275 - accuracy: 1.0000 - val_loss: 1.1164 - val_accuracy: 0.7308\n",
      "Epoch 5/15\n",
      "2/2 [==============================] - 0s 84ms/step - loss: 0.0176 - accuracy: 1.0000 - val_loss: 0.7125 - val_accuracy: 0.8077\n",
      "Epoch 6/15\n",
      "2/2 [==============================] - 0s 82ms/step - loss: 0.0134 - accuracy: 1.0000 - val_loss: 0.6150 - val_accuracy: 0.8077\n",
      "Epoch 7/15\n",
      "2/2 [==============================] - 0s 86ms/step - loss: 0.0143 - accuracy: 1.0000 - val_loss: 1.0314 - val_accuracy: 0.6154\n",
      "Epoch 8/15\n",
      "2/2 [==============================] - 0s 79ms/step - loss: 0.0161 - accuracy: 1.0000 - val_loss: 0.7816 - val_accuracy: 0.8077\n",
      "Epoch 9/15\n",
      "2/2 [==============================] - 0s 84ms/step - loss: 0.0211 - accuracy: 1.0000 - val_loss: 0.9039 - val_accuracy: 0.6923\n",
      "Epoch 10/15\n",
      "2/2 [==============================] - 0s 80ms/step - loss: 0.0097 - accuracy: 1.0000 - val_loss: 0.5983 - val_accuracy: 0.8077\n",
      "Epoch 11/15\n",
      "2/2 [==============================] - 0s 82ms/step - loss: 0.0122 - accuracy: 1.0000 - val_loss: 0.7137 - val_accuracy: 0.6154\n",
      "Epoch 12/15\n",
      "2/2 [==============================] - 0s 86ms/step - loss: 0.0061 - accuracy: 1.0000 - val_loss: 0.5841 - val_accuracy: 0.8462\n",
      "Epoch 13/15\n",
      "2/2 [==============================] - 0s 84ms/step - loss: 0.0095 - accuracy: 1.0000 - val_loss: 0.9990 - val_accuracy: 0.5769\n",
      "Epoch 14/15\n",
      "2/2 [==============================] - 0s 86ms/step - loss: 0.0057 - accuracy: 1.0000 - val_loss: 0.7333 - val_accuracy: 0.8077\n",
      "Epoch 15/15\n",
      "2/2 [==============================] - 0s 81ms/step - loss: 0.0069 - accuracy: 1.0000 - val_loss: 0.7694 - val_accuracy: 0.7692\n"
     ]
    }
   ],
   "source": [
    "history = model.fit(x=train_data,y=train_labels,epochs=15,validation_data=(test_data,test_labels))"
   ]
  },
  {
   "cell_type": "markdown",
   "metadata": {},
   "source": [
    "### Model Evaluation"
   ]
  },
  {
   "cell_type": "code",
   "execution_count": 30,
   "metadata": {},
   "outputs": [
    {
     "name": "stdout",
     "output_type": "stream",
     "text": [
      "1/1 [==============================] - 0s 129ms/step - loss: 0.7694 - accuracy: 0.7692\n"
     ]
    },
    {
     "data": {
      "text/plain": [
       "[0.7694495320320129, 0.7692307829856873]"
      ]
     },
     "execution_count": 30,
     "metadata": {},
     "output_type": "execute_result"
    }
   ],
   "source": [
    "model.evaluate(test_data,test_labels)"
   ]
  },
  {
   "cell_type": "markdown",
   "metadata": {},
   "source": [
    "### Graphs"
   ]
  },
  {
   "cell_type": "markdown",
   "metadata": {},
   "source": [
    "#### Accuracy graph"
   ]
  },
  {
   "cell_type": "code",
   "execution_count": null,
   "metadata": {},
   "outputs": [
    {
     "data": {
      "image/png": "[encoded data removed]",
      "text/plain": [
       "<Figure size 432x288 with 1 Axes>"
      ]
     },
     "metadata": {
      "needs_background": "light"
     },
     "output_type": "display_data"
    }
   ],
   "source": [
    "plt.plot(history.history['accuracy'])\n",
    "plt.plot(history.history['val_accuracy'])\n",
    "plt.title('model accuracy')\n",
    "plt.ylabel('accuracy')\n",
    "plt.xlabel('epoch')\n",
    "plt.legend(['train', 'test'], loc='upper left')\n",
    "plt.show()"
   ]
  },
  {
   "cell_type": "markdown",
   "metadata": {},
   "source": [
    "#### Loss graph"
   ]
  },
  {
   "cell_type": "code",
   "execution_count": null,
   "metadata": {},
   "outputs": [
    {
     "data": {
      "image/png": "[encoded data removed]",
      "text/plain": [
       "<Figure size 432x288 with 1 Axes>"
      ]
     },
     "metadata": {
      "needs_background": "light"
     },
     "output_type": "display_data"
    }
   ],
   "source": [
    "plt.plot(history.history['loss'])\n",
    "plt.plot(history.history['val_loss'])\n",
    "plt.title('model loss')\n",
    "plt.ylabel('loss')\n",
    "plt.xlabel('epoch')\n",
    "plt.legend(['train', 'test'], loc='upper left')\n",
    "plt.show()"
   ]
  },
  {
   "cell_type": "markdown",
   "metadata": {},
   "source": [
    "#### Confusion Matrix"
   ]
  },
  {
   "cell_type": "code",
   "execution_count": null,
   "metadata": {},
   "outputs": [],
   "source": [
    "load_model = tf.keras.models.load_model(\"final-model\")"
   ]
  },
  {
   "cell_type": "code",
   "execution_count": null,
   "metadata": {},
   "outputs": [
    {
     "name": "stdout",
     "output_type": "stream",
     "text": [
      "WARNING:tensorflow:AutoGraph could not transform <function Model.make_predict_function.<locals>.predict_function at 0x000002508B65FE18> and will run it as-is.\n",
      "Please report this to the TensorFlow team. When filing the bug, set the verbosity to 10 (on Linux, `export AUTOGRAPH_VERBOSITY=10`) and attach the full output.\n",
      "Cause: 'arguments' object has no attribute 'posonlyargs'\n",
      "To silence this warning, decorate the function with @tf.autograph.experimental.do_not_convert\n",
      "WARNING: AutoGraph could not transform <function Model.make_predict_function.<locals>.predict_function at 0x000002508B65FE18> and will run it as-is.\n",
      "Please report this to the TensorFlow team. When filing the bug, set the verbosity to 10 (on Linux, `export AUTOGRAPH_VERBOSITY=10`) and attach the full output.\n",
      "Cause: 'arguments' object has no attribute 'posonlyargs'\n",
      "To silence this warning, decorate the function with @tf.autograph.experimental.do_not_convert\n",
      "1/1 [==============================] - 1s 1s/step\n"
     ]
    }
   ],
   "source": [
    "y_pred = load_model.predict(test_data)"
   ]
  },
  {
   "cell_type": "code",
   "execution_count": null,
   "metadata": {},
   "outputs": [
    {
     "data": {
      "text/plain": [
       "26"
      ]
     },
     "execution_count": 33,
     "metadata": {},
     "output_type": "execute_result"
    }
   ],
   "source": [
    "len(y_pred)"
   ]
  },
  {
   "cell_type": "code",
   "execution_count": null,
   "metadata": {},
   "outputs": [
    {
     "name": "stdout",
     "output_type": "stream",
     "text": [
      "[1, 1, 1, 1, 1, 1, 1, 2, 2, 2, 4, 3, 3, 3, 3, 3, 4, 4, 4, 4, 4, 5, 5, 5, 5, 5]\n"
     ]
    }
   ],
   "source": [
    "y_pred_labels = []\n",
    "for i in range(len(y_pred)):\n",
    "    y_label = np.argmax(y_pred[i])\n",
    "    y_pred_labels.append(y_label)\n",
    "print(y_pred_labels)"
   ]
  },
  {
   "cell_type": "code",
   "execution_count": null,
   "metadata": {},
   "outputs": [],
   "source": []
  },
  {
   "cell_type": "code",
   "execution_count": null,
   "metadata": {},
   "outputs": [],
   "source": [
    "con_mat = tf.math.confusion_matrix(labels=test_label_con, predictions=y_pred_labels).numpy()\n"
   ]
  },
  {
   "cell_type": "code",
   "execution_count": null,
   "metadata": {},
   "outputs": [],
   "source": [
    "classes = ['Unknown','Dixit','Sourav','Anveshak','Vedant','Darshan']\n",
    "con_mat_df = pd.DataFrame(con_mat,\n",
    "                     index = classes, \n",
    "                     columns = classes)"
   ]
  },
  {
   "cell_type": "code",
   "execution_count": null,
   "metadata": {},
   "outputs": [
    {
     "data": {
      "image/png": "[encoded data removed]",
      "text/plain": [
       "<Figure size 648x360 with 2 Axes>"
      ]
     },
     "metadata": {
      "needs_background": "light"
     },
     "output_type": "display_data"
    }
   ],
   "source": [
    "figure = plt.figure(figsize=(9,5))\n",
    "sns.heatmap(con_mat_df, annot=True,cmap=plt.cm.Blues)\n",
    "plt.tight_layout()\n",
    "plt.ylabel('True label')\n",
    "plt.xlabel('Predicted label')\n",
    "plt.show()"
   ]
  },
  {
   "cell_type": "code",
   "execution_count": null,
   "metadata": {},
   "outputs": [
    {
     "name": "stdout",
     "output_type": "stream",
     "text": [
      "              precision    recall  f1-score   support\n",
      "\n",
      "           1       1.00      1.00      1.00         7\n",
      "           2       1.00      0.75      0.86         4\n",
      "           3       1.00      1.00      1.00         5\n",
      "           4       0.83      1.00      0.91         5\n",
      "           5       1.00      1.00      1.00         5\n",
      "\n",
      "    accuracy                           0.96        26\n",
      "   macro avg       0.97      0.95      0.95        26\n",
      "weighted avg       0.97      0.96      0.96        26\n",
      "\n"
     ]
    }
   ],
   "source": [
    "print(classification_report(test_label_con, y_pred_labels))"
   ]
  },
  {
   "cell_type": "code",
   "execution_count": null,
   "metadata": {},
   "outputs": [],
   "source": []
  },
  {
   "cell_type": "markdown",
   "metadata": {},
   "source": [
    "### Saving Model"
   ]
  },
  {
   "cell_type": "code",
   "execution_count": 31,
   "metadata": {},
   "outputs": [
    {
     "name": "stdout",
     "output_type": "stream",
     "text": [
      "INFO:tensorflow:Assets written to: final-model\\assets\n"
     ]
    }
   ],
   "source": [
    "model.save(\"final-model\")"
   ]
  },
  {
   "cell_type": "markdown",
   "metadata": {},
   "source": [
    "### New audio files as input to model"
   ]
  },
  {
   "cell_type": "code",
   "execution_count": null,
   "metadata": {},
   "outputs": [],
   "source": []
  },
  {
   "cell_type": "code",
   "execution_count": null,
   "metadata": {},
   "outputs": [
    {
     "name": "stdout",
     "output_type": "stream",
     "text": [
      "['Z1.wav', 'Z2.wav', 'Z3.wav', 'Z4.wav', 'Z5.wav']\n",
      "Enter any of the above file name: Z3.wav\n",
      "WARNING:tensorflow:AutoGraph could not transform <function Model.make_predict_function.<locals>.predict_function at 0x0000012F018D6048> and will run it as-is.\n",
      "Please report this to the TensorFlow team. When filing the bug, set the verbosity to 10 (on Linux, `export AUTOGRAPH_VERBOSITY=10`) and attach the full output.\n",
      "Cause: 'arguments' object has no attribute 'posonlyargs'\n",
      "To silence this warning, decorate the function with @tf.autograph.experimental.do_not_convert\n",
      "WARNING: AutoGraph could not transform <function Model.make_predict_function.<locals>.predict_function at 0x0000012F018D6048> and will run it as-is.\n",
      "Please report this to the TensorFlow team. When filing the bug, set the verbosity to 10 (on Linux, `export AUTOGRAPH_VERBOSITY=10`) and attach the full output.\n",
      "Cause: 'arguments' object has no attribute 'posonlyargs'\n",
      "To silence this warning, decorate the function with @tf.autograph.experimental.do_not_convert\n",
      "1/1 [==============================] - 0s 492ms/step\n",
      "Detected speaker is:  Vedant\n"
     ]
    }
   ],
   "source": [
    "new_audio_files = \"C:/Users/Vedant/Desktop/Final Year Project/Sincnet Final/random_samples/\"\n",
    "print(os.listdir(new_audio_files))\n",
    "model_random_audio = tf.keras.models.load_model(\"final-model\")\n",
    "\n",
    "new_file = input(\"Enter any of the above file name: \")\n",
    "if str(new_file).endswith('.wav'):\n",
    "    new_file_loc = new_audio_files + new_file\n",
    "    def test_data_gen(path):\n",
    "        random_wav,_ = librosa.load(path,sr=16000)\n",
    "        random_wav = random_wav[:112000]\n",
    "        random_wav = [random_wav.tolist()]\n",
    "        random_wav_arr = np.array(random_wav)\n",
    "        return random_wav_arr\n",
    "    new_file_arr = test_data_gen(new_file_loc)\n",
    "    pred_spk = model_random_audio.predict(new_file_arr)\n",
    "    spkr = np.argmax(pred_spk)\n",
    "    print(\"Detected speaker is: \",spkr_id[spkr])\n",
    "else:\n",
    "    print(\"Enter full file name along with extension(.wav)\")"
   ]
  },
  {
   "cell_type": "markdown",
   "metadata": {},
   "source": [
    "#### Live Audio Prediction"
   ]
  },
  {
   "cell_type": "code",
   "execution_count": 32,
   "metadata": {},
   "outputs": [],
   "source": [
    "def record():\n",
    "    fs = 44100  # Sample rate\n",
    "    seconds = 8  # Duration of recording\n",
    "    source = 'live_audio_record/'\n",
    "    filename = 'output.wav'\n",
    "    path = source + filename\n",
    "    print(\"Please speak......\")\n",
    "    myrecording = sd.rec(int(seconds * fs), samplerate=fs, channels=2)\n",
    "    sd.wait()  # Wait until recording is finished\n",
    "    write(path, fs, myrecording)  # Save as WAV file \n",
    "    print(\"output.wav succesfully saved in Testing_Audio folder\")\n",
    "    return filename"
   ]
  },
  {
   "cell_type": "code",
   "execution_count": 33,
   "metadata": {},
   "outputs": [],
   "source": [
    "def cvt_live_audio(path):\n",
    "    random_wav,_ = librosa.load(path,sr=16000)\n",
    "    random_wav = random_wav[:112000]\n",
    "    random_wav = [random_wav.tolist()]\n",
    "    random_wav_arr = np.array(random_wav)\n",
    "    return random_wav_arr"
   ]
  },
  {
   "cell_type": "code",
   "execution_count": 34,
   "metadata": {},
   "outputs": [],
   "source": [
    "spkr_id = {\n",
    "    1:'Dixit',\n",
    "    2:'Sourav',\n",
    "    3:'Anveshak',\n",
    "    4:'Vedant',\n",
    "    5:'Darshan'\n",
    "}"
   ]
  },
  {
   "cell_type": "code",
   "execution_count": 39,
   "metadata": {},
   "outputs": [],
   "source": [
    "def live_audio_recognition():\n",
    "    model = tf.keras.models.load_model(\"final-model\")\n",
    "    print(\"Model loaded\")\n",
    "    filename = record()\n",
    "    print(\"Testing audio: \", filename)\n",
    "    test_src = \"live_audio_record/\"\n",
    "    path = test_src+filename\n",
    "    random_wav_arr = cvt_live_audio(path)\n",
    "    print(random_wav_arr)\n",
    "    predicted_label = model.predict(random_wav_arr)\n",
    "    print(predicted_label)\n",
    "    label = np.argmax(predicted_label)\n",
    "    print(label)\n",
    "    print(predicted_label[0][label])\n",
    "\n",
    "    print(\"Speaker Detected: \",spkr_id[label])"
   ]
  },
  {
   "cell_type": "code",
   "execution_count": 40,
   "metadata": {},
   "outputs": [
    {
     "name": "stdout",
     "output_type": "stream",
     "text": [
      "Model loaded\n",
      "Please speak......\n",
      "output.wav succesfully saved in Testing_Audio folder\n",
      "Testing audio:  output.wav\n",
      "[[-0.0075913  -0.02596915 -0.030807   ...  0.47535363  0.50742936\n",
      "   0.52286351]]\n",
      "[[0.1310573  0.3531886  0.03578583 0.31189546 0.07121586 0.09685688]]\n",
      "1\n",
      "0.3531886\n",
      "Speaker Detected:  Dixit\n"
     ]
    }
   ],
   "source": [
    "live_audio_recognition()"
   ]
  },
  {
   "cell_type": "code",
   "execution_count": null,
   "metadata": {},
   "outputs": [],
   "source": []
  }
 ],
 "metadata": {
  "kernelspec": {
   "display_name": "Python 3.8.6 64-bit",
   "language": "python",
   "name": "python3"
  },
  "language_info": {
   "codemirror_mode": {
    "name": "ipython",
    "version": 3
   },
   "file_extension": ".py",
   "mimetype": "text/x-python",
   "name": "python",
   "nbconvert_exporter": "python",
   "pygments_lexer": "ipython3",
   "version": "3.8.6"
  },
  "vscode": {
   "interpreter": {
    "hash": "e2cde104f4d18245c788b079dac12b495c585d850f7488bacbf703b0b6afa06c"
   }
  }
 },
 "nbformat": 4,
 "nbformat_minor": 4
}
